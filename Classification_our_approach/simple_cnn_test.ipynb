{
 "cells": [
  {
   "cell_type": "code",
   "execution_count": null,
   "metadata": {},
   "outputs": [],
   "source": [
    "import torch as tc\n",
    "from data_loader import CovidCTDataset\n",
    "from torch.utils.data import DataLoader\n",
    "\n",
    "from sklearn.model_selection import KFold\n",
    "\n",
    "from simple_cnn import SimpleCNN"
   ]
  },
  {
   "cell_type": "code",
   "execution_count": null,
   "metadata": {},
   "outputs": [],
   "source": [
    "def k_fold_cv_dataset_split(dataset, k_folds, batch_size):\n",
    "    random_state = 42\n",
    "    kfold = KFold(n_splits=k_folds, shuffle=True, random_state=random_state)\n",
    "\n",
    "    train_loaders = []\n",
    "    val_loaders = []\n",
    "\n",
    "    for train_idx, val_idx in kfold.split(dataset):\n",
    "        train_dataset = tc.utils.data.Subset(dataset, train_idx)\n",
    "        val_dataset = tc.utils.data.Subset(dataset, val_idx)\n",
    "\n",
    "        train_loader = DataLoader(train_dataset, batch_size=batch_size, drop_last=False, shuffle=True)\n",
    "        val_loader = DataLoader(val_dataset, batch_size=batch_size, drop_last=False, shuffle=True)\n",
    "\n",
    "        train_loaders.append(train_loader)\n",
    "        val_loaders.append(val_loader)\n",
    "    \n",
    "    return train_loaders, val_loaders"
   ]
  },
  {
   "cell_type": "code",
   "execution_count": null,
   "metadata": {},
   "outputs": [],
   "source": [
    "def training_loop(model, optimizer, loss_function, k_folds, train_loaders, val_loaders, num_epochs):\n",
    "\n",
    "    for fold in range(k_folds):\n",
    "        train_loader = train_loaders[fold]\n",
    "        val_loader = val_loaders[fold]\n",
    "\n",
    "        for epoch in range(num_epochs):\n",
    "\n",
    "            model.train()\n",
    "            for batch_idx, batch in enumerate(train_loader):\n",
    "                # Forward pass\n",
    "                inputs = batch['img']\n",
    "                labels = batch['label']\n",
    "                outputs = model(inputs)\n",
    "                \n",
    "                # Compute loss\n",
    "                loss = loss_function(outputs, labels)\n",
    "                \n",
    "                # Backward pass and optimization\n",
    "                optimizer.zero_grad() #zeroes out the gradients of all the model parameters.\n",
    "                loss.backward() #computes the gradients of the model's parameters with respect to the loss\n",
    "                optimizer.step() #updates the model's parameters using the computed gradients and the chosen optimization algorithm\n",
    "\n",
    "            # Validation\n",
    "            model.eval()\n",
    "            val_loss = 0.0\n",
    "            correct = 0\n",
    "            total = 0\n",
    "            #torch.no_grad ensures that no gradients are computed during this process, as we don't need them for evaluation.\n",
    "            with tc.no_grad():\n",
    "                for batch in val_loader:\n",
    "                    inputs = batch['img']\n",
    "                    labels = batch['label']\n",
    "                    outputs = model(inputs)\n",
    "                    \n",
    "                    # Compute validation loss\n",
    "                    val_loss += loss_function(outputs, labels).item()\n",
    "                    \n",
    "                    # Compute accuracy\n",
    "                    _, predicted = torch.max(outputs, 1)\n",
    "                    total += labels.size(0)\n",
    "                    correct += (predicted == labels).sum().item()\n",
    "            \n",
    "            print(f'Fold: {fold+1}/{k_folds}, Epoch: {epoch+1}/{num_epochs}, '\n",
    "                f'Train Loss: {loss.item():.4f}, Val Loss: {val_loss/len(val_loader):.4f}, '\n",
    "                f'Val Acc: {(100 * correct / total):.2f}%')"
   ]
  },
  {
   "cell_type": "code",
   "execution_count": null,
   "metadata": {},
   "outputs": [],
   "source": [
    "dataset = CovidCTDataset(root_dir='Data/',\n",
    "                            txt_COVID='Classification_our_approach/CT_COVID.txt',\n",
    "                            txt_NonCOVID='Classification_our_approach/CT_NonCOVID.txt')\n",
    "print(dataset.__len__())"
   ]
  },
  {
   "cell_type": "code",
   "execution_count": null,
   "metadata": {},
   "outputs": [],
   "source": [
    "learning_rate = 0.003\n",
    "batch_size=10\n",
    "k_folds = 5\n",
    "num_epochs = 8\n",
    "\n",
    "dataset_loader = DataLoader(dataset, batch_size=batch_size, drop_last=False, shuffle=True)"
   ]
  },
  {
   "cell_type": "code",
   "execution_count": null,
   "metadata": {},
   "outputs": [],
   "source": [
    "model = SimpleCNN()\n",
    "parameters = model.parameters()\n",
    "\n",
    "optimizer = tc.optim.Adam(parameters, lr=learning_rate)\n",
    "loss_function = tc.nn.CrossEntropyLoss()"
   ]
  },
  {
   "cell_type": "code",
   "execution_count": null,
   "metadata": {},
   "outputs": [],
   "source": [
    "train_loaders, val_loaders = k_fold_cv_dataset_split(dataset, k_folds=k_folds, batch_size=batch_size)"
   ]
  },
  {
   "cell_type": "code",
   "execution_count": null,
   "metadata": {},
   "outputs": [],
   "source": [
    "training_loop(model, optimizer, loss_function, k_folds, train_loaders, val_loaders, num_epochs)"
   ]
  }
 ],
 "metadata": {
  "language_info": {
   "name": "python"
  },
  "orig_nbformat": 4
 },
 "nbformat": 4,
 "nbformat_minor": 2
}
