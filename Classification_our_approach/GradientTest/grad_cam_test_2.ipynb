{
 "cells": [
  {
   "cell_type": "code",
   "execution_count": 8,
   "metadata": {},
   "outputs": [],
   "source": [
    "import numpy as np\n",
    "import matplotlib as mpl\n",
    "import matplotlib.pyplot as plt\n",
    "import torch\n",
    "import torch.nn as nn\n",
    "from torchvision import models\n",
    "import torchvision.transforms as transforms\n",
    "from PIL import Image"
   ]
  },
  {
   "cell_type": "code",
   "execution_count": 30,
   "metadata": {},
   "outputs": [],
   "source": [
    "class GradCamModel(nn.Module):\n",
    "    def __init__(self):\n",
    "        super().__init__()\n",
    "        self.gradients = None\n",
    "        self.tensorhook = []\n",
    "        self.layerhook = []\n",
    "        self.selected_out = None\n",
    "        \n",
    "        # PRETRAINED MODEL\n",
    "        self.pretrained = models.densenet169(pretrained=True)\n",
    "        self.layerhook.append(self.pretrained.features.register_forward_hook(self.forward_hook()))\n",
    "        \n",
    "        for p in self.pretrained.parameters():\n",
    "            p.requires_grad = True\n",
    "    \n",
    "    def activations_hook(self, grad):\n",
    "        self.gradients = grad\n",
    "\n",
    "    def get_act_grads(self):\n",
    "        return self.gradients\n",
    "\n",
    "    def forward_hook(self):\n",
    "        def hook(module, inp, out):\n",
    "            self.selected_out = out\n",
    "            self.tensorhook.append(out.register_hook(self.activations_hook))\n",
    "        return hook\n",
    "\n",
    "    def forward(self, x):\n",
    "        out = self.pretrained.features(x)\n",
    "        out = torch.relu(out, inplace=True)\n",
    "        out = torch.nn.functional.adaptive_avg_pool2d(out, (1, 1))\n",
    "        out = torch.flatten(out, 1)\n",
    "        out = self.pretrained.classifier(out)\n",
    "        return out, self.selected_out"
   ]
  },
  {
   "cell_type": "code",
   "execution_count": 31,
   "metadata": {},
   "outputs": [
    {
     "ename": "RuntimeError",
     "evalue": "cannot register a hook on a tensor that doesn't require gradient",
     "output_type": "error",
     "traceback": [
      "\u001b[1;31m---------------------------------------------------------------------------\u001b[0m",
      "\u001b[1;31mRuntimeError\u001b[0m                              Traceback (most recent call last)",
      "Cell \u001b[1;32mIn[31], line 16\u001b[0m\n\u001b[0;32m     14\u001b[0m \u001b[39m# Forward pass through the model\u001b[39;00m\n\u001b[0;32m     15\u001b[0m \u001b[39mwith\u001b[39;00m torch\u001b[39m.\u001b[39mno_grad():\n\u001b[1;32m---> 16\u001b[0m     output, features \u001b[39m=\u001b[39m model(preprocessed_image)\n\u001b[0;32m     17\u001b[0m     predicted_class \u001b[39m=\u001b[39m torch\u001b[39m.\u001b[39margmax(output, dim\u001b[39m=\u001b[39m\u001b[39m1\u001b[39m)\u001b[39m.\u001b[39mitem()\n\u001b[0;32m     19\u001b[0m \u001b[39m# Backward pass to compute gradients\u001b[39;00m\n",
      "File \u001b[1;32mc:\\Users\\PC\\ML_Classification_Project\\COVID-19-CT-Classification\\env\\lib\\site-packages\\torch\\nn\\modules\\module.py:1051\u001b[0m, in \u001b[0;36mModule._call_impl\u001b[1;34m(self, *input, **kwargs)\u001b[0m\n\u001b[0;32m   1047\u001b[0m \u001b[39m# If we don't have any hooks, we want to skip the rest of the logic in\u001b[39;00m\n\u001b[0;32m   1048\u001b[0m \u001b[39m# this function, and just call forward.\u001b[39;00m\n\u001b[0;32m   1049\u001b[0m \u001b[39mif\u001b[39;00m \u001b[39mnot\u001b[39;00m (\u001b[39mself\u001b[39m\u001b[39m.\u001b[39m_backward_hooks \u001b[39mor\u001b[39;00m \u001b[39mself\u001b[39m\u001b[39m.\u001b[39m_forward_hooks \u001b[39mor\u001b[39;00m \u001b[39mself\u001b[39m\u001b[39m.\u001b[39m_forward_pre_hooks \u001b[39mor\u001b[39;00m _global_backward_hooks\n\u001b[0;32m   1050\u001b[0m         \u001b[39mor\u001b[39;00m _global_forward_hooks \u001b[39mor\u001b[39;00m _global_forward_pre_hooks):\n\u001b[1;32m-> 1051\u001b[0m     \u001b[39mreturn\u001b[39;00m forward_call(\u001b[39m*\u001b[39m\u001b[39minput\u001b[39m, \u001b[39m*\u001b[39m\u001b[39m*\u001b[39mkwargs)\n\u001b[0;32m   1052\u001b[0m \u001b[39m# Do not call functions when jit is used\u001b[39;00m\n\u001b[0;32m   1053\u001b[0m full_backward_hooks, non_full_backward_hooks \u001b[39m=\u001b[39m [], []\n",
      "Cell \u001b[1;32mIn[30], line 29\u001b[0m, in \u001b[0;36mGradCamModel.forward\u001b[1;34m(self, x)\u001b[0m\n\u001b[0;32m     28\u001b[0m \u001b[39mdef\u001b[39;00m \u001b[39mforward\u001b[39m(\u001b[39mself\u001b[39m, x):\n\u001b[1;32m---> 29\u001b[0m     out \u001b[39m=\u001b[39m \u001b[39mself\u001b[39;49m\u001b[39m.\u001b[39;49mpretrained\u001b[39m.\u001b[39;49mfeatures(x)\n\u001b[0;32m     30\u001b[0m     out \u001b[39m=\u001b[39m torch\u001b[39m.\u001b[39mrelu(out, inplace\u001b[39m=\u001b[39m\u001b[39mTrue\u001b[39;00m)\n\u001b[0;32m     31\u001b[0m     out \u001b[39m=\u001b[39m torch\u001b[39m.\u001b[39mnn\u001b[39m.\u001b[39mfunctional\u001b[39m.\u001b[39madaptive_avg_pool2d(out, (\u001b[39m1\u001b[39m, \u001b[39m1\u001b[39m))\n",
      "File \u001b[1;32mc:\\Users\\PC\\ML_Classification_Project\\COVID-19-CT-Classification\\env\\lib\\site-packages\\torch\\nn\\modules\\module.py:1076\u001b[0m, in \u001b[0;36mModule._call_impl\u001b[1;34m(self, *input, **kwargs)\u001b[0m\n\u001b[0;32m   1072\u001b[0m \u001b[39mif\u001b[39;00m _global_forward_hooks \u001b[39mor\u001b[39;00m \u001b[39mself\u001b[39m\u001b[39m.\u001b[39m_forward_hooks:\n\u001b[0;32m   1073\u001b[0m     \u001b[39mfor\u001b[39;00m hook \u001b[39min\u001b[39;00m itertools\u001b[39m.\u001b[39mchain(\n\u001b[0;32m   1074\u001b[0m             _global_forward_hooks\u001b[39m.\u001b[39mvalues(),\n\u001b[0;32m   1075\u001b[0m             \u001b[39mself\u001b[39m\u001b[39m.\u001b[39m_forward_hooks\u001b[39m.\u001b[39mvalues()):\n\u001b[1;32m-> 1076\u001b[0m         hook_result \u001b[39m=\u001b[39m hook(\u001b[39mself\u001b[39;49m, \u001b[39minput\u001b[39;49m, result)\n\u001b[0;32m   1077\u001b[0m         \u001b[39mif\u001b[39;00m hook_result \u001b[39mis\u001b[39;00m \u001b[39mnot\u001b[39;00m \u001b[39mNone\u001b[39;00m:\n\u001b[0;32m   1078\u001b[0m             result \u001b[39m=\u001b[39m hook_result\n",
      "Cell \u001b[1;32mIn[30], line 25\u001b[0m, in \u001b[0;36mGradCamModel.forward_hook.<locals>.hook\u001b[1;34m(module, inp, out)\u001b[0m\n\u001b[0;32m     23\u001b[0m \u001b[39mdef\u001b[39;00m \u001b[39mhook\u001b[39m(module, inp, out):\n\u001b[0;32m     24\u001b[0m     \u001b[39mself\u001b[39m\u001b[39m.\u001b[39mselected_out \u001b[39m=\u001b[39m out\n\u001b[1;32m---> 25\u001b[0m     \u001b[39mself\u001b[39m\u001b[39m.\u001b[39mtensorhook\u001b[39m.\u001b[39mappend(out\u001b[39m.\u001b[39;49mregister_hook(\u001b[39mself\u001b[39;49m\u001b[39m.\u001b[39;49mactivations_hook))\n",
      "File \u001b[1;32mc:\\Users\\PC\\ML_Classification_Project\\COVID-19-CT-Classification\\env\\lib\\site-packages\\torch\\_tensor.py:289\u001b[0m, in \u001b[0;36mTensor.register_hook\u001b[1;34m(self, hook)\u001b[0m\n\u001b[0;32m    287\u001b[0m     \u001b[39mreturn\u001b[39;00m handle_torch_function(Tensor\u001b[39m.\u001b[39mregister_hook, (\u001b[39mself\u001b[39m,), \u001b[39mself\u001b[39m, hook)\n\u001b[0;32m    288\u001b[0m \u001b[39mif\u001b[39;00m \u001b[39mnot\u001b[39;00m \u001b[39mself\u001b[39m\u001b[39m.\u001b[39mrequires_grad:\n\u001b[1;32m--> 289\u001b[0m     \u001b[39mraise\u001b[39;00m \u001b[39mRuntimeError\u001b[39;00m(\u001b[39m\"\u001b[39m\u001b[39mcannot register a hook on a tensor that \u001b[39m\u001b[39m\"\u001b[39m\n\u001b[0;32m    290\u001b[0m                        \u001b[39m\"\u001b[39m\u001b[39mdoesn\u001b[39m\u001b[39m'\u001b[39m\u001b[39mt require gradient\u001b[39m\u001b[39m\"\u001b[39m)\n\u001b[0;32m    291\u001b[0m \u001b[39mif\u001b[39;00m \u001b[39mself\u001b[39m\u001b[39m.\u001b[39m_backward_hooks \u001b[39mis\u001b[39;00m \u001b[39mNone\u001b[39;00m:\n\u001b[0;32m    292\u001b[0m     \u001b[39mself\u001b[39m\u001b[39m.\u001b[39m_backward_hooks \u001b[39m=\u001b[39m OrderedDict()\n",
      "\u001b[1;31mRuntimeError\u001b[0m: cannot register a hook on a tensor that doesn't require gradient"
     ]
    }
   ],
   "source": [
    "# Load and preprocess the image\n",
    "image_path = r'DaneTest/elephant/xxx.png'\n",
    "preprocess = transforms.Compose([\n",
    "    transforms.Resize((224, 224)),\n",
    "    transforms.ToTensor(),\n",
    "    transforms.Normalize(mean=[0.485, 0.456, 0.406], std=[0.229, 0.224, 0.225]),\n",
    "])\n",
    "image = Image.open(image_path).convert('RGB')\n",
    "preprocessed_image = preprocess(image).unsqueeze(0)\n",
    "\n",
    "# Create an instance of GradCamModel\n",
    "model = GradCamModel()\n",
    "\n",
    "# Forward pass through the model\n",
    "with torch.no_grad():\n",
    "    output, features = model(preprocessed_image)\n",
    "    predicted_class = torch.argmax(output, dim=1).item()\n",
    "\n",
    "# Backward pass to compute gradients\n",
    "output[:, predicted_class].backward()\n",
    "grads = model.get_act_grads()\n",
    "\n",
    "# Compute the Grad-CAM heatmap\n",
    "weights = torch.mean(grads, dim=(2, 3), keepdim=True)\n",
    "grad_cam = torch.sum(weights * features, dim=1, keepdim=True)\n",
    "grad_cam = torch.relu_(grad_cam)  # Use relu_() for in-place ReLU activation\n",
    "\n",
    "# Normalize the heatmap\n",
    "grad_cam = torch.nn.functional.interpolate(grad_cam, size=(224, 224), mode='bilinear', align_corners=False)\n",
    "grad_cam = (grad_cam - grad_cam.min()) / (grad_cam.max() - grad_cam.min())"
   ]
  },
  {
   "cell_type": "code",
   "execution_count": null,
   "metadata": {},
   "outputs": [],
   "source": []
  }
 ],
 "metadata": {
  "kernelspec": {
   "display_name": "env",
   "language": "python",
   "name": "python3"
  },
  "language_info": {
   "codemirror_mode": {
    "name": "ipython",
    "version": 3
   },
   "file_extension": ".py",
   "mimetype": "text/x-python",
   "name": "python",
   "nbconvert_exporter": "python",
   "pygments_lexer": "ipython3",
   "version": "3.9.10"
  },
  "orig_nbformat": 4
 },
 "nbformat": 4,
 "nbformat_minor": 2
}
