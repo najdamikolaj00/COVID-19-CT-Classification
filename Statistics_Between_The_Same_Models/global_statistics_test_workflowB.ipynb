{
 "cells": [
  {
   "cell_type": "code",
   "execution_count": 7,
   "metadata": {},
   "outputs": [],
   "source": [
    "import scipy.stats as stats\n",
    "import pandas as pd"
   ]
  },
  {
   "cell_type": "code",
   "execution_count": 8,
   "metadata": {},
   "outputs": [],
   "source": [
    "model1 = 'DenseNet169'\n",
    "model2 = 'SimpleCNN'\n",
    "model3 = 'EnhancedCNN'\n",
    "\n",
    "batch_size = 10\n",
    "epochs = 50\n",
    "k = 3"
   ]
  },
  {
   "cell_type": "code",
   "execution_count": 9,
   "metadata": {},
   "outputs": [
    {
     "name": "stderr",
     "output_type": "stream",
     "text": [
      "C:\\Users\\PC\\AppData\\Local\\Temp\\ipykernel_8844\\1423632450.py:1: ParserWarning: Falling back to the 'python' engine because the 'c' engine does not support regex separators (separators > 1 char and different from '\\s+' are interpreted as regex); you can avoid this warning by specifying engine='python'.\n",
      "  model1_results = pd.read_csv(f'results/{model1}_k{k}_epoch{epochs}_batch{batch_size}_val_results.txt', delimiter=', ')\n",
      "C:\\Users\\PC\\AppData\\Local\\Temp\\ipykernel_8844\\1423632450.py:2: ParserWarning: Falling back to the 'python' engine because the 'c' engine does not support regex separators (separators > 1 char and different from '\\s+' are interpreted as regex); you can avoid this warning by specifying engine='python'.\n",
      "  model2_results = pd.read_csv(f'results/{model2}_k{k}_epoch{epochs}_batch{batch_size}_val_results.txt', delimiter=', ')\n",
      "C:\\Users\\PC\\AppData\\Local\\Temp\\ipykernel_8844\\1423632450.py:3: ParserWarning: Falling back to the 'python' engine because the 'c' engine does not support regex separators (separators > 1 char and different from '\\s+' are interpreted as regex); you can avoid this warning by specifying engine='python'.\n",
      "  model3_results = pd.read_csv(f'results/{model3}_k{k}_epoch{epochs}_batch{batch_size}_val_results.txt', delimiter=', ')\n"
     ]
    }
   ],
   "source": [
    "model1_results = pd.read_csv(f'results/{model1}_k{k}_epoch{epochs}_batch{batch_size}_val_results.txt', delimiter=', ')\n",
    "model2_results = pd.read_csv(f'results/{model2}_k{k}_epoch{epochs}_batch{batch_size}_val_results.txt', delimiter=', ')\n",
    "model3_results = pd.read_csv(f'results/{model3}_k{k}_epoch{epochs}_batch{batch_size}_val_results.txt', delimiter=', ')"
   ]
  },
  {
   "cell_type": "code",
   "execution_count": 10,
   "metadata": {},
   "outputs": [],
   "source": [
    "model1_f1 = model1_results['F1 Score']\n",
    "model2_f1 = model2_results['F1 Score']\n",
    "model3_f1 = model3_results['F1 Score']\n",
    "\n",
    "model1_acc = model1_results['Val Acc']\n",
    "model2_acc = model2_results['Val Acc']\n",
    "model3_acc = model3_results['Val Acc']\n",
    "\n",
    "model1_auc = model1_results['AUC']\n",
    "model2_auc = model2_results['AUC']\n",
    "model3_auc = model3_results['AUC']"
   ]
  },
  {
   "cell_type": "code",
   "execution_count": 11,
   "metadata": {},
   "outputs": [],
   "source": [
    "def perform_global_stat(metric):\n",
    "    data = [eval(f\"model1_{metric}\"), eval(f\"model2_{metric}\"), eval(f\"model3_{metric}\")]   \n",
    "    print(\"Metryka:\", metric)\n",
    "    \n",
    "    # Sprawdzenie założeń testu ANOVA\n",
    "    _, p_normal = stats.shapiro(data)\n",
    "    _, p_homogeneity = stats.levene(*data)\n",
    "    \n",
    "    print(\"Test Shapiro-Wilka (normalność):\")\n",
    "    print(\"p-value:\", p_normal)\n",
    "    \n",
    "    print(\"Test Levene'a (homogeniczność wariancji):\")\n",
    "    print(\"p-value:\", p_homogeneity)\n",
    "    \n",
    "    # Przeprowadzenie testu ANOVA lub odpowiedniego testu alternatywnego\n",
    "    if p_normal > 0.05 and p_homogeneity > 0.05:\n",
    "        print(\"Warunki testu ANOVA są spełnione.\")\n",
    "        print(\"Przeprowadzanie testu ANOVA...\")\n",
    "        statistic, p_value = stats.f_oneway(*data)\n",
    "        print(\"Statistic:\", statistic)\n",
    "        print(\"p-value:\", p_value)\n",
    "        \n",
    "        if p_value < 0.05:\n",
    "            print(\"Występuje istotna różnica między grupami.\")\n",
    "        else:\n",
    "            print(\"Nie ma istotnej różnicy między grupami.\")\n",
    "    else:\n",
    "        print(\"Warunki testu ANOVA nie są spełnione.\")\n",
    "        print(\"Przeprowadzanie testu Kruskala-Wallisa...\")\n",
    "        statistic, p_value = stats.kruskal(*data)\n",
    "        print(\"Statistic:\", statistic)\n",
    "        print(\"p-value:\", p_value)\n",
    "        \n",
    "        if p_value < 0.05:\n",
    "            print(\"Występuje istotna różnica między grupami.\")\n",
    "        else:\n",
    "            print(\"Nie ma istotnej różnicy między grupami.\")"
   ]
  },
  {
   "cell_type": "code",
   "execution_count": 12,
   "metadata": {},
   "outputs": [
    {
     "name": "stdout",
     "output_type": "stream",
     "text": [
      "Metryka: f1\n",
      "Test Shapiro-Wilka (normalność):\n",
      "p-value: 4.53496600953369e-19\n",
      "Test Levene'a (homogeniczność wariancji):\n",
      "p-value: 3.8000525721098396e-23\n",
      "Warunki testu ANOVA nie są spełnione.\n",
      "Przeprowadzanie testu Kruskala-Wallisa...\n",
      "Statistic: 228.7230438154145\n",
      "p-value: 2.1548750533590623e-50\n",
      "Występuje istotna różnica między grupami.\n",
      "Metryka: acc\n",
      "Test Shapiro-Wilka (normalność):\n",
      "p-value: 2.1338648824808203e-15\n",
      "Test Levene'a (homogeniczność wariancji):\n",
      "p-value: 1.2279764248455088e-13\n",
      "Warunki testu ANOVA nie są spełnione.\n",
      "Przeprowadzanie testu Kruskala-Wallisa...\n",
      "Statistic: 223.8359369788786\n",
      "p-value: 2.481097660431604e-49\n",
      "Występuje istotna różnica między grupami.\n",
      "Metryka: auc\n",
      "Test Shapiro-Wilka (normalność):\n",
      "p-value: 5.3649326697873725e-19\n",
      "Test Levene'a (homogeniczność wariancji):\n",
      "p-value: 1.3879446476008649e-28\n",
      "Warunki testu ANOVA nie są spełnione.\n",
      "Przeprowadzanie testu Kruskala-Wallisa...\n",
      "Statistic: 252.94563340300553\n",
      "p-value: 1.1845505419793578e-55\n",
      "Występuje istotna różnica między grupami.\n"
     ]
    }
   ],
   "source": [
    "metrics = [\"f1\", \"acc\", \"auc\"]\n",
    "for metric in metrics:\n",
    "    perform_global_stat(metric)"
   ]
  },
  {
   "cell_type": "code",
   "execution_count": null,
   "metadata": {},
   "outputs": [],
   "source": []
  }
 ],
 "metadata": {
  "kernelspec": {
   "display_name": "env",
   "language": "python",
   "name": "python3"
  },
  "language_info": {
   "codemirror_mode": {
    "name": "ipython",
    "version": 3
   },
   "file_extension": ".py",
   "mimetype": "text/x-python",
   "name": "python",
   "nbconvert_exporter": "python",
   "pygments_lexer": "ipython3",
   "version": "3.9.10"
  },
  "orig_nbformat": 4
 },
 "nbformat": 4,
 "nbformat_minor": 2
}
