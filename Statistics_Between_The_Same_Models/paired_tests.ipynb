{
 "cells": [
  {
   "cell_type": "code",
   "execution_count": 17,
   "metadata": {},
   "outputs": [],
   "source": [
    "import pandas as pd\n",
    "import numpy as np\n",
    "from scipy.stats import shapiro, ttest_rel, wilcoxon"
   ]
  },
  {
   "cell_type": "code",
   "execution_count": 18,
   "metadata": {},
   "outputs": [],
   "source": [
    "model1 = 'DenseNet169'\n",
    "model2 = 'SimpleCNN'\n",
    "model3 = 'EnhancedCNN'\n",
    "\n",
    "batch_size = 10\n",
    "epochs = 50\n",
    "k = 5\n"
   ]
  },
  {
   "cell_type": "code",
   "execution_count": 19,
   "metadata": {},
   "outputs": [
    {
     "name": "stderr",
     "output_type": "stream",
     "text": [
      "C:\\Users\\PC\\AppData\\Local\\Temp\\ipykernel_7996\\3803886145.py:1: ParserWarning: Falling back to the 'python' engine because the 'c' engine does not support regex separators (separators > 1 char and different from '\\s+' are interpreted as regex); you can avoid this warning by specifying engine='python'.\n",
      "  model1_results_approach1 = pd.read_csv(f'results/{model1}_epoch{epochs}_batch{batch_size}_val_results.txt', delimiter=', ')\n",
      "C:\\Users\\PC\\AppData\\Local\\Temp\\ipykernel_7996\\3803886145.py:2: ParserWarning: Falling back to the 'python' engine because the 'c' engine does not support regex separators (separators > 1 char and different from '\\s+' are interpreted as regex); you can avoid this warning by specifying engine='python'.\n",
      "  model2_results_approach1 = pd.read_csv(f'results/{model2}_epoch{epochs}_batch{batch_size}_val_results.txt', delimiter=', ')\n",
      "C:\\Users\\PC\\AppData\\Local\\Temp\\ipykernel_7996\\3803886145.py:3: ParserWarning: Falling back to the 'python' engine because the 'c' engine does not support regex separators (separators > 1 char and different from '\\s+' are interpreted as regex); you can avoid this warning by specifying engine='python'.\n",
      "  model3_results_approach1 = pd.read_csv(f'results/{model3}_epoch{epochs}_batch{batch_size}_val_results.txt', delimiter=', ')\n",
      "C:\\Users\\PC\\AppData\\Local\\Temp\\ipykernel_7996\\3803886145.py:6: ParserWarning: Falling back to the 'python' engine because the 'c' engine does not support regex separators (separators > 1 char and different from '\\s+' are interpreted as regex); you can avoid this warning by specifying engine='python'.\n",
      "  model1_results_approach2 = pd.read_csv(f'results/{model1}_k{k}_epoch{epochs}_batch{batch_size}_val_results.txt', delimiter=', ')\n",
      "C:\\Users\\PC\\AppData\\Local\\Temp\\ipykernel_7996\\3803886145.py:7: ParserWarning: Falling back to the 'python' engine because the 'c' engine does not support regex separators (separators > 1 char and different from '\\s+' are interpreted as regex); you can avoid this warning by specifying engine='python'.\n",
      "  model2_results_approach2 = pd.read_csv(f'results/{model2}_k{k}_epoch{epochs}_batch{batch_size}_val_results.txt', delimiter=', ')\n",
      "C:\\Users\\PC\\AppData\\Local\\Temp\\ipykernel_7996\\3803886145.py:8: ParserWarning: Falling back to the 'python' engine because the 'c' engine does not support regex separators (separators > 1 char and different from '\\s+' are interpreted as regex); you can avoid this warning by specifying engine='python'.\n",
      "  model3_results_approach2 = pd.read_csv(f'results/{model3}_k{k}_epoch{epochs}_batch{batch_size}_val_results.txt', delimiter=', ')\n"
     ]
    }
   ],
   "source": [
    "model1_results_approach1 = pd.read_csv(f'results/{model1}_epoch{epochs}_batch{batch_size}_val_results.txt', delimiter=', ')\n",
    "model2_results_approach1 = pd.read_csv(f'results/{model2}_epoch{epochs}_batch{batch_size}_val_results.txt', delimiter=', ')\n",
    "model3_results_approach1 = pd.read_csv(f'results/{model3}_epoch{epochs}_batch{batch_size}_val_results.txt', delimiter=', ')\n",
    "\n",
    "# Approach 2 - k-fold cross-validation\n",
    "model1_results_approach2 = pd.read_csv(f'results/{model1}_k{k}_epoch{epochs}_batch{batch_size}_val_results.txt', delimiter=', ')\n",
    "model2_results_approach2 = pd.read_csv(f'results/{model2}_k{k}_epoch{epochs}_batch{batch_size}_val_results.txt', delimiter=', ')\n",
    "model3_results_approach2 = pd.read_csv(f'results/{model3}_k{k}_epoch{epochs}_batch{batch_size}_val_results.txt', delimiter=', ')\n"
   ]
  },
  {
   "cell_type": "code",
   "execution_count": 20,
   "metadata": {},
   "outputs": [],
   "source": [
    "model1_results_approach2_avg = model1_results_approach2.groupby('Epoch').mean()\n",
    "model2_results_approach2_avg = model2_results_approach2.groupby('Epoch').mean()\n",
    "model3_results_approach2_avg = model3_results_approach2.groupby('Epoch').mean()\n"
   ]
  },
  {
   "cell_type": "code",
   "execution_count": 21,
   "metadata": {},
   "outputs": [],
   "source": [
    "metrics = ['F1 Score', 'Val Acc', 'AUC']"
   ]
  },
  {
   "cell_type": "code",
   "execution_count": 22,
   "metadata": {},
   "outputs": [
    {
     "name": "stdout",
     "output_type": "stream",
     "text": [
      "Metric: F1 Score\n",
      "Approach 1 vs Approach 2:\n",
      "Tests for model:DenseNet169\n",
      "Shapiro-Wilk p-value: 1.0\n",
      "T-Test p-values: 1.297485963491924e-40\n",
      "There is a significant difference between the two approaches (p-value < 0.05)\n",
      "Tests for model:SimpleCNN\n",
      "Shapiro-Wilk p-value: 1.0\n",
      "T-Test p-values: 1.297485963491924e-40\n",
      "There is a significant difference between the two approaches (p-value < 0.05)\n",
      "Tests for model:EnhancedCNN\n",
      "Shapiro-Wilk p-value: 1.0\n",
      "T-Test p-values: 1.297485963491924e-40\n",
      "There is a significant difference between the two approaches (p-value < 0.05)\n",
      "Metric: Val Acc\n",
      "Approach 1 vs Approach 2:\n",
      "Tests for model:DenseNet169\n",
      "Shapiro-Wilk p-value: 1.0\n",
      "T-Test p-values: 1.6953800898590885e-26\n",
      "There is a significant difference between the two approaches (p-value < 0.05)\n",
      "Tests for model:SimpleCNN\n",
      "Shapiro-Wilk p-value: 1.0\n",
      "T-Test p-values: 1.6953800898590885e-26\n",
      "There is a significant difference between the two approaches (p-value < 0.05)\n",
      "Tests for model:EnhancedCNN\n",
      "Shapiro-Wilk p-value: 1.0\n",
      "T-Test p-values: 1.6953800898590885e-26\n",
      "There is a significant difference between the two approaches (p-value < 0.05)\n",
      "Metric: AUC\n",
      "Approach 1 vs Approach 2:\n",
      "Tests for model:DenseNet169\n",
      "Shapiro-Wilk p-value: 1.0\n",
      "T-Test p-values: 1.9192787966008565e-35\n",
      "There is a significant difference between the two approaches (p-value < 0.05)\n",
      "Tests for model:SimpleCNN\n",
      "Shapiro-Wilk p-value: 1.0\n",
      "T-Test p-values: 1.9192787966008565e-35\n",
      "There is a significant difference between the two approaches (p-value < 0.05)\n",
      "Tests for model:EnhancedCNN\n",
      "Shapiro-Wilk p-value: 1.0\n",
      "T-Test p-values: 1.9192787966008565e-35\n",
      "There is a significant difference between the two approaches (p-value < 0.05)\n"
     ]
    }
   ],
   "source": [
    "for metric in metrics:\n",
    "    print(f\"Metric: {metric}\")\n",
    "    results_model1_approach1 = model1_results_approach1[metric]\n",
    "    results_model1_approach2 = model1_results_approach2_avg[metric]\n",
    "\n",
    "    results_model2_approach1 = model2_results_approach1[metric]\n",
    "    results_model2_approach2 = model2_results_approach2_avg[metric]\n",
    "\n",
    "    results_model3_approach1 = model3_results_approach1[metric]\n",
    "    results_model3_approach2 = model3_results_approach2_avg[metric]\n",
    "\n",
    "    # Perform the paired tests\n",
    "    print(\"Approach 1 vs Approach 2:\")\n",
    "    is_normal = True\n",
    "\n",
    "    for results_model_approach1, results_model_approach2, model_name in [(results_model1_approach1, results_model1_approach2, model1),\n",
    "                                                             (results_model2_approach1, results_model2_approach2, model2),\n",
    "                                                             (results_model3_approach1, results_model3_approach2, model3)]:\n",
    "\n",
    "        _, p_value = shapiro(results_model_approach1 - results_model_approach2)\n",
    "        print(f\"Tests for model:{model_name}\")\n",
    "        print(\"Shapiro-Wilk p-value:\", p_value)\n",
    "\n",
    "        if p_value < 0.05:\n",
    "            is_normal = False\n",
    "\n",
    "        if is_normal:\n",
    "            # Perform t-test paired for normal distribution\n",
    "            t_statistic, p_value_ttest = ttest_rel(results_model1_approach1, results_model1_approach2)\n",
    "            print(\"T-Test p-values:\", p_value_ttest)\n",
    "\n",
    "            if np.asarray(p_value_ttest) < 0.05:\n",
    "                print(\"There is a significant difference between the two approaches (p-value < 0.05)\")\n",
    "            else:\n",
    "                print(\"There is no significant difference between the two approaches (p-value >= 0.05)\")\n",
    "        else:\n",
    "            # Perform Wilcoxon test for non-normal distribution\n",
    "            _, p_value_wilcoxon = wilcoxon(results_model1_approach1, results_model1_approach2)\n",
    "            print(\"Wilcoxon p-values:\", p_value_wilcoxon)\n",
    "\n",
    "            if np.asarray(p_value_wilcoxon) < 0.05:\n",
    "                print(\"There is a significant difference between the two approaches (p-value < 0.05)\")\n",
    "            else:\n",
    "                print(\"There is no significant difference between the two approaches (p-value >= 0.05)\")"
   ]
  },
  {
   "cell_type": "code",
   "execution_count": null,
   "metadata": {},
   "outputs": [],
   "source": []
  }
 ],
 "metadata": {
  "kernelspec": {
   "display_name": "env",
   "language": "python",
   "name": "python3"
  },
  "language_info": {
   "codemirror_mode": {
    "name": "ipython",
    "version": 3
   },
   "file_extension": ".py",
   "mimetype": "text/x-python",
   "name": "python",
   "nbconvert_exporter": "python",
   "pygments_lexer": "ipython3",
   "version": "3.9.10"
  },
  "orig_nbformat": 4
 },
 "nbformat": 4,
 "nbformat_minor": 2
}
